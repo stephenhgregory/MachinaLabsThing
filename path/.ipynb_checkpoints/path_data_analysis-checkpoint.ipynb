{
 "cells": [
  {
   "cell_type": "markdown",
   "id": "c8184e4d",
   "metadata": {},
   "source": [
    "# Setup"
   ]
  },
  {
   "cell_type": "code",
   "execution_count": 20,
   "id": "178e17fe",
   "metadata": {},
   "outputs": [],
   "source": [
    "# Import libraries\n",
    "\n",
    "import pandas as pd\n",
    "import matplotlib"
   ]
  },
  {
   "cell_type": "code",
   "execution_count": 18,
   "id": "e1159f52",
   "metadata": {},
   "outputs": [],
   "source": [
    "# Set global variables\n",
    "\n",
    "path_csv_path = 'logs/path.csv'\n",
    "tracker_csv_path = 'logs/tracker.csv'"
   ]
  },
  {
   "cell_type": "code",
   "execution_count": 19,
   "id": "6982d130",
   "metadata": {},
   "outputs": [],
   "source": [
    "# Read the path and tracker files into Pandas DataFrames\n",
    "\n",
    "path_df = pd.read_csv(path_csv_path)\n",
    "tracker_df = pd.read_csv(tracker_csv_path)"
   ]
  },
  {
   "cell_type": "markdown",
   "id": "25964893",
   "metadata": {},
   "source": [
    "# Data Analysis"
   ]
  },
  {
   "cell_type": "code",
   "execution_count": 36,
   "id": "1f7340d9",
   "metadata": {},
   "outputs": [],
   "source": [
    "# Take a little look at the data in the DataFrames\n",
    "# path_df.head(25)\n",
    "# tracker_df.head(25)"
   ]
  },
  {
   "cell_type": "code",
   "execution_count": 37,
   "id": "71005331",
   "metadata": {},
   "outputs": [],
   "source": [
    "# TODO"
   ]
  },
  {
   "cell_type": "markdown",
   "id": "a6f86f46",
   "metadata": {},
   "source": [
    "# Data Cleaning"
   ]
  },
  {
   "cell_type": "markdown",
   "id": "7db79ab0",
   "metadata": {},
   "source": [
    "## 1. Remove unnecessary data"
   ]
  },
  {
   "cell_type": "code",
   "execution_count": 32,
   "id": "34fb7bce",
   "metadata": {},
   "outputs": [
    {
     "data": {
      "text/html": [
       "<div>\n",
       "<style scoped>\n",
       "    .dataframe tbody tr th:only-of-type {\n",
       "        vertical-align: middle;\n",
       "    }\n",
       "\n",
       "    .dataframe tbody tr th {\n",
       "        vertical-align: top;\n",
       "    }\n",
       "\n",
       "    .dataframe thead th {\n",
       "        text-align: right;\n",
       "    }\n",
       "</style>\n",
       "<table border=\"1\" class=\"dataframe\">\n",
       "  <thead>\n",
       "    <tr style=\"text-align: right;\">\n",
       "      <th></th>\n",
       "      <th>Unnamed: 0</th>\n",
       "      <th>index</th>\n",
       "      <th>x_trk</th>\n",
       "      <th>y_trk</th>\n",
       "    </tr>\n",
       "  </thead>\n",
       "  <tbody>\n",
       "    <tr>\n",
       "      <th>0</th>\n",
       "      <td>0</td>\n",
       "      <td>3180</td>\n",
       "      <td>-36.507133</td>\n",
       "      <td>-40.170982</td>\n",
       "    </tr>\n",
       "    <tr>\n",
       "      <th>1</th>\n",
       "      <td>1</td>\n",
       "      <td>3181</td>\n",
       "      <td>-36.543438</td>\n",
       "      <td>-40.260765</td>\n",
       "    </tr>\n",
       "    <tr>\n",
       "      <th>2</th>\n",
       "      <td>2</td>\n",
       "      <td>3182</td>\n",
       "      <td>-36.645119</td>\n",
       "      <td>-40.364326</td>\n",
       "    </tr>\n",
       "    <tr>\n",
       "      <th>3</th>\n",
       "      <td>3</td>\n",
       "      <td>3183</td>\n",
       "      <td>-36.709301</td>\n",
       "      <td>-40.413754</td>\n",
       "    </tr>\n",
       "    <tr>\n",
       "      <th>4</th>\n",
       "      <td>4</td>\n",
       "      <td>3184</td>\n",
       "      <td>-36.720108</td>\n",
       "      <td>-40.421989</td>\n",
       "    </tr>\n",
       "    <tr>\n",
       "      <th>...</th>\n",
       "      <td>...</td>\n",
       "      <td>...</td>\n",
       "      <td>...</td>\n",
       "      <td>...</td>\n",
       "    </tr>\n",
       "    <tr>\n",
       "      <th>546938</th>\n",
       "      <td>546938</td>\n",
       "      <td>550118</td>\n",
       "      <td>-35.735081</td>\n",
       "      <td>-24.971382</td>\n",
       "    </tr>\n",
       "    <tr>\n",
       "      <th>546939</th>\n",
       "      <td>546939</td>\n",
       "      <td>550119</td>\n",
       "      <td>-35.476555</td>\n",
       "      <td>-23.567873</td>\n",
       "    </tr>\n",
       "    <tr>\n",
       "      <th>546940</th>\n",
       "      <td>546940</td>\n",
       "      <td>550120</td>\n",
       "      <td>-35.200634</td>\n",
       "      <td>-22.105921</td>\n",
       "    </tr>\n",
       "    <tr>\n",
       "      <th>546941</th>\n",
       "      <td>546941</td>\n",
       "      <td>550121</td>\n",
       "      <td>-34.895008</td>\n",
       "      <td>-20.589333</td>\n",
       "    </tr>\n",
       "    <tr>\n",
       "      <th>546942</th>\n",
       "      <td>546942</td>\n",
       "      <td>550122</td>\n",
       "      <td>-34.612679</td>\n",
       "      <td>-19.015917</td>\n",
       "    </tr>\n",
       "  </tbody>\n",
       "</table>\n",
       "<p>546943 rows × 4 columns</p>\n",
       "</div>"
      ],
      "text/plain": [
       "        Unnamed: 0   index      x_trk      y_trk\n",
       "0                0    3180 -36.507133 -40.170982\n",
       "1                1    3181 -36.543438 -40.260765\n",
       "2                2    3182 -36.645119 -40.364326\n",
       "3                3    3183 -36.709301 -40.413754\n",
       "4                4    3184 -36.720108 -40.421989\n",
       "...            ...     ...        ...        ...\n",
       "546938      546938  550118 -35.735081 -24.971382\n",
       "546939      546939  550119 -35.476555 -23.567873\n",
       "546940      546940  550120 -35.200634 -22.105921\n",
       "546941      546941  550121 -34.895008 -20.589333\n",
       "546942      546942  550122 -34.612679 -19.015917\n",
       "\n",
       "[546943 rows x 4 columns]"
      ]
     },
     "execution_count": 32,
     "metadata": {},
     "output_type": "execute_result"
    }
   ],
   "source": [
    "# Remove the \"z\" and \"time\" dimension columns in both DataFrames\n",
    "path_df.drop(columns=['z_pth', 't_pth'])\n",
    "tracker_df.drop(columns=['z_trk', 't_trk'])"
   ]
  },
  {
   "cell_type": "code",
   "execution_count": null,
   "id": "5a5b01a2",
   "metadata": {},
   "outputs": [],
   "source": []
  }
 ],
 "metadata": {
  "kernelspec": {
   "display_name": "Python 3 (ipykernel)",
   "language": "python",
   "name": "python3"
  },
  "language_info": {
   "codemirror_mode": {
    "name": "ipython",
    "version": 3
   },
   "file_extension": ".py",
   "mimetype": "text/x-python",
   "name": "python",
   "nbconvert_exporter": "python",
   "pygments_lexer": "ipython3",
   "version": "3.9.9"
  }
 },
 "nbformat": 4,
 "nbformat_minor": 5
}
