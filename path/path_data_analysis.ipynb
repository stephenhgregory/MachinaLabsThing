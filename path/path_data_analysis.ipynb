{
 "cells": [
  {
   "cell_type": "markdown",
   "id": "c8184e4d",
   "metadata": {},
   "source": [
    "# Setup"
   ]
  },
  {
   "cell_type": "code",
   "execution_count": 1,
   "id": "178e17fe",
   "metadata": {},
   "outputs": [],
   "source": [
    "# Import libraries\n",
    "\n",
    "import pandas as pd\n",
    "import matplotlib.pyplot as plt\n",
    "%matplotlib inline"
   ]
  },
  {
   "cell_type": "code",
   "execution_count": 2,
   "id": "e1159f52",
   "metadata": {},
   "outputs": [],
   "source": [
    "# Set global variables\n",
    "\n",
    "path_csv_path = 'logs/path.csv'\n",
    "tracker_csv_path = 'logs/tracker.csv'"
   ]
  },
  {
   "cell_type": "code",
   "execution_count": 3,
   "id": "6982d130",
   "metadata": {},
   "outputs": [],
   "source": [
    "# Read the path and tracker files into Pandas DataFrames\n",
    "\n",
    "path_df = pd.read_csv(path_csv_path)\n",
    "tracker_df = pd.read_csv(tracker_csv_path)"
   ]
  },
  {
   "cell_type": "markdown",
   "id": "25964893",
   "metadata": {},
   "source": [
    "# Data Analysis"
   ]
  },
  {
   "cell_type": "code",
   "execution_count": 23,
   "id": "1f7340d9",
   "metadata": {},
   "outputs": [
    {
     "data": {
      "text/html": [
       "<div>\n",
       "<style scoped>\n",
       "    .dataframe tbody tr th:only-of-type {\n",
       "        vertical-align: middle;\n",
       "    }\n",
       "\n",
       "    .dataframe tbody tr th {\n",
       "        vertical-align: top;\n",
       "    }\n",
       "\n",
       "    .dataframe thead th {\n",
       "        text-align: right;\n",
       "    }\n",
       "</style>\n",
       "<table border=\"1\" class=\"dataframe\">\n",
       "  <thead>\n",
       "    <tr style=\"text-align: right;\">\n",
       "      <th></th>\n",
       "      <th>Unnamed: 0</th>\n",
       "      <th>index</th>\n",
       "      <th>x_trk</th>\n",
       "      <th>y_trk</th>\n",
       "      <th>z_trk</th>\n",
       "      <th>t_trk</th>\n",
       "    </tr>\n",
       "  </thead>\n",
       "  <tbody>\n",
       "    <tr>\n",
       "      <th>0</th>\n",
       "      <td>0</td>\n",
       "      <td>3180</td>\n",
       "      <td>-36.507133</td>\n",
       "      <td>-40.170982</td>\n",
       "      <td>-2915.784424</td>\n",
       "      <td>1633969004633871000</td>\n",
       "    </tr>\n",
       "    <tr>\n",
       "      <th>1</th>\n",
       "      <td>1</td>\n",
       "      <td>3181</td>\n",
       "      <td>-36.543438</td>\n",
       "      <td>-40.260765</td>\n",
       "      <td>-2915.713623</td>\n",
       "      <td>1633969004648860000</td>\n",
       "    </tr>\n",
       "    <tr>\n",
       "      <th>2</th>\n",
       "      <td>2</td>\n",
       "      <td>3182</td>\n",
       "      <td>-36.645119</td>\n",
       "      <td>-40.364326</td>\n",
       "      <td>-2915.732910</td>\n",
       "      <td>1633969004662330000</td>\n",
       "    </tr>\n",
       "    <tr>\n",
       "      <th>3</th>\n",
       "      <td>3</td>\n",
       "      <td>3183</td>\n",
       "      <td>-36.709301</td>\n",
       "      <td>-40.413754</td>\n",
       "      <td>-2915.772949</td>\n",
       "      <td>1633969004674115000</td>\n",
       "    </tr>\n",
       "    <tr>\n",
       "      <th>4</th>\n",
       "      <td>4</td>\n",
       "      <td>3184</td>\n",
       "      <td>-36.720108</td>\n",
       "      <td>-40.421989</td>\n",
       "      <td>-2915.788086</td>\n",
       "      <td>1633969004687849000</td>\n",
       "    </tr>\n",
       "    <tr>\n",
       "      <th>5</th>\n",
       "      <td>5</td>\n",
       "      <td>3185</td>\n",
       "      <td>-36.724915</td>\n",
       "      <td>-40.427578</td>\n",
       "      <td>-2915.725586</td>\n",
       "      <td>1633969004699959000</td>\n",
       "    </tr>\n",
       "    <tr>\n",
       "      <th>6</th>\n",
       "      <td>6</td>\n",
       "      <td>3186</td>\n",
       "      <td>-36.668312</td>\n",
       "      <td>-40.436436</td>\n",
       "      <td>-2915.676758</td>\n",
       "      <td>1633969004713613000</td>\n",
       "    </tr>\n",
       "    <tr>\n",
       "      <th>7</th>\n",
       "      <td>7</td>\n",
       "      <td>3187</td>\n",
       "      <td>-36.652710</td>\n",
       "      <td>-40.457592</td>\n",
       "      <td>-2915.729492</td>\n",
       "      <td>1633969004730045000</td>\n",
       "    </tr>\n",
       "    <tr>\n",
       "      <th>8</th>\n",
       "      <td>8</td>\n",
       "      <td>3188</td>\n",
       "      <td>-36.705055</td>\n",
       "      <td>-40.492893</td>\n",
       "      <td>-2915.809814</td>\n",
       "      <td>1633969004741991000</td>\n",
       "    </tr>\n",
       "    <tr>\n",
       "      <th>9</th>\n",
       "      <td>9</td>\n",
       "      <td>3189</td>\n",
       "      <td>-36.777580</td>\n",
       "      <td>-40.530525</td>\n",
       "      <td>-2915.860596</td>\n",
       "      <td>1633969004754114000</td>\n",
       "    </tr>\n",
       "    <tr>\n",
       "      <th>10</th>\n",
       "      <td>10</td>\n",
       "      <td>3190</td>\n",
       "      <td>-36.834881</td>\n",
       "      <td>-40.560074</td>\n",
       "      <td>-2915.870850</td>\n",
       "      <td>1633969004768723000</td>\n",
       "    </tr>\n",
       "    <tr>\n",
       "      <th>11</th>\n",
       "      <td>11</td>\n",
       "      <td>3191</td>\n",
       "      <td>-36.824306</td>\n",
       "      <td>-40.555126</td>\n",
       "      <td>-2915.831543</td>\n",
       "      <td>1633969004781359000</td>\n",
       "    </tr>\n",
       "    <tr>\n",
       "      <th>12</th>\n",
       "      <td>12</td>\n",
       "      <td>3192</td>\n",
       "      <td>-36.734074</td>\n",
       "      <td>-40.522003</td>\n",
       "      <td>-2915.798828</td>\n",
       "      <td>1633969004794514000</td>\n",
       "    </tr>\n",
       "    <tr>\n",
       "      <th>13</th>\n",
       "      <td>13</td>\n",
       "      <td>3193</td>\n",
       "      <td>-36.692699</td>\n",
       "      <td>-40.482552</td>\n",
       "      <td>-2915.769775</td>\n",
       "      <td>1633969004807389000</td>\n",
       "    </tr>\n",
       "    <tr>\n",
       "      <th>14</th>\n",
       "      <td>14</td>\n",
       "      <td>3194</td>\n",
       "      <td>-36.714817</td>\n",
       "      <td>-40.461132</td>\n",
       "      <td>-2915.755859</td>\n",
       "      <td>1633969004821524000</td>\n",
       "    </tr>\n",
       "    <tr>\n",
       "      <th>15</th>\n",
       "      <td>15</td>\n",
       "      <td>3195</td>\n",
       "      <td>-36.774990</td>\n",
       "      <td>-40.469826</td>\n",
       "      <td>-2915.755371</td>\n",
       "      <td>1633969004833147000</td>\n",
       "    </tr>\n",
       "    <tr>\n",
       "      <th>16</th>\n",
       "      <td>16</td>\n",
       "      <td>3196</td>\n",
       "      <td>-36.826057</td>\n",
       "      <td>-40.494076</td>\n",
       "      <td>-2915.771729</td>\n",
       "      <td>1633969004847365000</td>\n",
       "    </tr>\n",
       "    <tr>\n",
       "      <th>17</th>\n",
       "      <td>17</td>\n",
       "      <td>3197</td>\n",
       "      <td>-36.790131</td>\n",
       "      <td>-40.508762</td>\n",
       "      <td>-2915.783691</td>\n",
       "      <td>1633969004860575000</td>\n",
       "    </tr>\n",
       "    <tr>\n",
       "      <th>18</th>\n",
       "      <td>18</td>\n",
       "      <td>3198</td>\n",
       "      <td>-36.705254</td>\n",
       "      <td>-40.498882</td>\n",
       "      <td>-2915.784912</td>\n",
       "      <td>1633969004873441000</td>\n",
       "    </tr>\n",
       "    <tr>\n",
       "      <th>19</th>\n",
       "      <td>19</td>\n",
       "      <td>3199</td>\n",
       "      <td>-36.672909</td>\n",
       "      <td>-40.476372</td>\n",
       "      <td>-2915.757812</td>\n",
       "      <td>1633969004887344000</td>\n",
       "    </tr>\n",
       "    <tr>\n",
       "      <th>20</th>\n",
       "      <td>20</td>\n",
       "      <td>3200</td>\n",
       "      <td>-36.704571</td>\n",
       "      <td>-40.455441</td>\n",
       "      <td>-2915.716309</td>\n",
       "      <td>1633969004901174000</td>\n",
       "    </tr>\n",
       "    <tr>\n",
       "      <th>21</th>\n",
       "      <td>21</td>\n",
       "      <td>3201</td>\n",
       "      <td>-36.749466</td>\n",
       "      <td>-40.443485</td>\n",
       "      <td>-2915.694824</td>\n",
       "      <td>1633969004913670000</td>\n",
       "    </tr>\n",
       "    <tr>\n",
       "      <th>22</th>\n",
       "      <td>22</td>\n",
       "      <td>3202</td>\n",
       "      <td>-36.778625</td>\n",
       "      <td>-40.447178</td>\n",
       "      <td>-2915.704346</td>\n",
       "      <td>1633969004927327000</td>\n",
       "    </tr>\n",
       "    <tr>\n",
       "      <th>23</th>\n",
       "      <td>23</td>\n",
       "      <td>3203</td>\n",
       "      <td>-36.748604</td>\n",
       "      <td>-40.462284</td>\n",
       "      <td>-2915.732422</td>\n",
       "      <td>1633969004940734000</td>\n",
       "    </tr>\n",
       "    <tr>\n",
       "      <th>24</th>\n",
       "      <td>24</td>\n",
       "      <td>3204</td>\n",
       "      <td>-36.715828</td>\n",
       "      <td>-40.479309</td>\n",
       "      <td>-2915.742920</td>\n",
       "      <td>1633969004953165000</td>\n",
       "    </tr>\n",
       "  </tbody>\n",
       "</table>\n",
       "</div>"
      ],
      "text/plain": [
       "    Unnamed: 0  index      x_trk      y_trk        z_trk                t_trk\n",
       "0            0   3180 -36.507133 -40.170982 -2915.784424  1633969004633871000\n",
       "1            1   3181 -36.543438 -40.260765 -2915.713623  1633969004648860000\n",
       "2            2   3182 -36.645119 -40.364326 -2915.732910  1633969004662330000\n",
       "3            3   3183 -36.709301 -40.413754 -2915.772949  1633969004674115000\n",
       "4            4   3184 -36.720108 -40.421989 -2915.788086  1633969004687849000\n",
       "5            5   3185 -36.724915 -40.427578 -2915.725586  1633969004699959000\n",
       "6            6   3186 -36.668312 -40.436436 -2915.676758  1633969004713613000\n",
       "7            7   3187 -36.652710 -40.457592 -2915.729492  1633969004730045000\n",
       "8            8   3188 -36.705055 -40.492893 -2915.809814  1633969004741991000\n",
       "9            9   3189 -36.777580 -40.530525 -2915.860596  1633969004754114000\n",
       "10          10   3190 -36.834881 -40.560074 -2915.870850  1633969004768723000\n",
       "11          11   3191 -36.824306 -40.555126 -2915.831543  1633969004781359000\n",
       "12          12   3192 -36.734074 -40.522003 -2915.798828  1633969004794514000\n",
       "13          13   3193 -36.692699 -40.482552 -2915.769775  1633969004807389000\n",
       "14          14   3194 -36.714817 -40.461132 -2915.755859  1633969004821524000\n",
       "15          15   3195 -36.774990 -40.469826 -2915.755371  1633969004833147000\n",
       "16          16   3196 -36.826057 -40.494076 -2915.771729  1633969004847365000\n",
       "17          17   3197 -36.790131 -40.508762 -2915.783691  1633969004860575000\n",
       "18          18   3198 -36.705254 -40.498882 -2915.784912  1633969004873441000\n",
       "19          19   3199 -36.672909 -40.476372 -2915.757812  1633969004887344000\n",
       "20          20   3200 -36.704571 -40.455441 -2915.716309  1633969004901174000\n",
       "21          21   3201 -36.749466 -40.443485 -2915.694824  1633969004913670000\n",
       "22          22   3202 -36.778625 -40.447178 -2915.704346  1633969004927327000\n",
       "23          23   3203 -36.748604 -40.462284 -2915.732422  1633969004940734000\n",
       "24          24   3204 -36.715828 -40.479309 -2915.742920  1633969004953165000"
      ]
     },
     "execution_count": 23,
     "metadata": {},
     "output_type": "execute_result"
    }
   ],
   "source": [
    "# Take a little look at the data in the DataFrames\n",
    "# path_df.head(25)\n",
    "tracker_df.head(25)"
   ]
  },
  {
   "cell_type": "markdown",
   "id": "944564f3",
   "metadata": {},
   "source": [
    "## 1. \"z\" dimension"
   ]
  },
  {
   "cell_type": "markdown",
   "id": "5e8ddac9",
   "metadata": {},
   "source": [
    "### 1.1. It seems that the \"z\" dimension of path_df has a lot of values at or very near to 0. Let's check that out."
   ]
  },
  {
   "cell_type": "code",
   "execution_count": 16,
   "id": "1df31968",
   "metadata": {},
   "outputs": [
    {
     "data": {
      "text/plain": [
       "array([[<AxesSubplot:title={'center':'z_pth'}>]], dtype=object)"
      ]
     },
     "execution_count": 16,
     "metadata": {},
     "output_type": "execute_result"
    },
    {
     "data": {
      "text/plain": [
       "<Figure size 432x288 with 0 Axes>"
      ]
     },
     "metadata": {},
     "output_type": "display_data"
    },
    {
     "data": {
      "image/png": "[encoded data removed]",
      "text/plain": [
       "<Figure size 432x288 with 1 Axes>"
      ]
     },
     "metadata": {
      "needs_background": "light"
     },
     "output_type": "display_data"
    }
   ],
   "source": [
    "## QUALITATIVE ANALYSIS ##\n",
    "\n",
    "# First, let's plot a histogram of the 'z_pth' values in path_df\n",
    "plt.figure()\n",
    "path_df.hist(column='z_pth')"
   ]
  },
  {
   "cell_type": "code",
   "execution_count": 17,
   "id": "1afed788",
   "metadata": {},
   "outputs": [
    {
     "name": "stdout",
     "output_type": "stream",
     "text": [
      "The 'z_pth' column has a mean of 7.795259064434285e-19 and an std of 2.976941975007739e-16\n"
     ]
    }
   ],
   "source": [
    "## QUANTITATIVE ANALYSIS ##\n",
    "\n",
    "# Get statistics on z_pth column\n",
    "z_pth_mean = path_df['z_pth'].mean()\n",
    "z_pth_std = path_df['z_pth'].std()\n",
    "\n",
    "print(f\"The 'z_pth' column has a mean of {z_pth_mean} and an std of {z_pth_std}\")"
   ]
  },
  {
   "cell_type": "markdown",
   "id": "0ce72fde",
   "metadata": {},
   "source": [
    "### With a mean very close to 0 and a standard deviation very close to zero, we will disregard the z_pth dimension of path_df"
   ]
  },
  {
   "cell_type": "markdown",
   "id": "2addbaae",
   "metadata": {},
   "source": [
    "### 1.2. Let's check out the \"z\" dimension of tracker_df as well"
   ]
  },
  {
   "cell_type": "code",
   "execution_count": 22,
   "id": "e6e9df68",
   "metadata": {},
   "outputs": [
    {
     "data": {
      "text/plain": [
       "array([[<AxesSubplot:title={'center':'z_trk'}>]], dtype=object)"
      ]
     },
     "execution_count": 22,
     "metadata": {},
     "output_type": "execute_result"
    },
    {
     "data": {
      "text/plain": [
       "<Figure size 432x288 with 0 Axes>"
      ]
     },
     "metadata": {},
     "output_type": "display_data"
    },
    {
     "data": {
      "image/png": "[encoded data removed]",
      "text/plain": [
       "<Figure size 432x288 with 1 Axes>"
      ]
     },
     "metadata": {
      "needs_background": "light"
     },
     "output_type": "display_data"
    }
   ],
   "source": [
    "## QUALITATIVE ANALYSIS ##\n",
    "\n",
    "# First, let's plot a histogram of the 'z_trk' values in tracker_df\n",
    "plt.figure()\n",
    "tracker_df.hist(column='z_trk')"
   ]
  },
  {
   "cell_type": "code",
   "execution_count": 21,
   "id": "9fdf51f3",
   "metadata": {},
   "outputs": [
    {
     "name": "stdout",
     "output_type": "stream",
     "text": [
      "The 'z_trk' column has a mean of -2915.682661820343 and an std of 57.930370443016606\n"
     ]
    }
   ],
   "source": [
    "## QUANTITATIVE ANALYSIS ##\n",
    "\n",
    "# Get statistics on z_trk column\n",
    "z_trk_mean = tracker_df['z_trk'].mean()\n",
    "z_trk_std = tracker_df['z_trk'].std()\n",
    "\n",
    "print(f\"The 'z_trk' column has a mean of {z_trk_mean} and an std of {z_trk_std}\")"
   ]
  },
  {
   "cell_type": "markdown",
   "id": "e42c2812",
   "metadata": {},
   "source": [
    "#### This one seems more tricky. I want to see if there are any correlations between the z_trk column and other columns"
   ]
  },
  {
   "cell_type": "code",
   "execution_count": 25,
   "id": "84e9cd4a",
   "metadata": {},
   "outputs": [
    {
     "data": {
      "text/plain": [
       "<AxesSubplot:title={'center':'z_trk and index'}, xlabel='z_trk', ylabel='index'>"
      ]
     },
     "execution_count": 25,
     "metadata": {},
     "output_type": "execute_result"
    },
    {
     "data": {
      "text/plain": [
       "<Figure size 432x288 with 0 Axes>"
      ]
     },
     "metadata": {},
     "output_type": "display_data"
    },
    {
     "data": {
      "image/png": "[encoded data removed]",
      "text/plain": [
       "<Figure size 432x288 with 1 Axes>"
      ]
     },
     "metadata": {
      "needs_background": "light"
     },
     "output_type": "display_data"
    },
    {
     "data": {
      "text/plain": [
       "<Figure size 432x288 with 0 Axes>"
      ]
     },
     "metadata": {},
     "output_type": "display_data"
    },
    {
     "data": {
      "image/png": "[encoded data removed]",
      "text/plain": [
       "<Figure size 432x288 with 1 Axes>"
      ]
     },
     "metadata": {
      "needs_background": "light"
     },
     "output_type": "display_data"
    },
    {
     "data": {
      "text/plain": [
       "<Figure size 432x288 with 0 Axes>"
      ]
     },
     "metadata": {},
     "output_type": "display_data"
    },
    {
     "data": {
      "image/png": "[encoded data removed]",
      "text/plain": [
       "<Figure size 432x288 with 1 Axes>"
      ]
     },
     "metadata": {
      "needs_background": "light"
     },
     "output_type": "display_data"
    }
   ],
   "source": [
    "# Create scatterplots to find correlation between 'z_trk' and other columns\n",
    "\n",
    "plt.figure()\n",
    "tracker_df.plot(kind='scatter', x='z_trk', y='y_trk', title='z_trk and y_trk')\n",
    "\n",
    "plt.figure()\n",
    "tracker_df.plot(kind='scatter', x='z_trk', y='x_trk', title='z_trk and x_trk')\n",
    "\n",
    "plt.figure()\n",
    "tracker_df.plot(kind='scatter', x='z_trk', y='index', title='z_trk and index')"
   ]
  },
  {
   "cell_type": "code",
   "execution_count": 28,
   "id": "8d799776",
   "metadata": {},
   "outputs": [
    {
     "data": {
      "text/plain": [
       "<AxesSubplot:title={'center':'x_trk and z_trk'}, xlabel='x_trk', ylabel='z_trk'>"
      ]
     },
     "execution_count": 28,
     "metadata": {},
     "output_type": "execute_result"
    },
    {
     "data": {
      "text/plain": [
       "<Figure size 432x288 with 0 Axes>"
      ]
     },
     "metadata": {},
     "output_type": "display_data"
    },
    {
     "data": {
      "image/png": "[encoded data removed]",
      "text/plain": [
       "<Figure size 432x288 with 1 Axes>"
      ]
     },
     "metadata": {
      "needs_background": "light"
     },
     "output_type": "display_data"
    },
    {
     "data": {
      "text/plain": [
       "<Figure size 432x288 with 0 Axes>"
      ]
     },
     "metadata": {},
     "output_type": "display_data"
    },
    {
     "data": {
      "image/png": "[encoded data removed]",
      "text/plain": [
       "<Figure size 432x288 with 1 Axes>"
      ]
     },
     "metadata": {
      "needs_background": "light"
     },
     "output_type": "display_data"
    },
    {
     "data": {
      "text/plain": [
       "<Figure size 432x288 with 0 Axes>"
      ]
     },
     "metadata": {},
     "output_type": "display_data"
    },
    {
     "data": {
      "image/png": "[encoded data removed]",
      "text/plain": [
       "<Figure size 432x288 with 1 Axes>"
      ]
     },
     "metadata": {
      "needs_background": "light"
     },
     "output_type": "display_data"
    }
   ],
   "source": [
    "plt.figure()\n",
    "tracker_df.plot(kind='scatter', x='x_trk', y='y_trk', title='x_trk and y_trk')\n",
    "\n",
    "plt.figure()\n",
    "tracker_df.plot(kind='scatter', x='z_trk', y='y_trk', title='z_trk and y_trk')\n",
    "\n",
    "plt.figure()\n",
    "tracker_df.plot(kind='scatter', x='x_trk', y='z_trk', title='x_trk and z_trk')\n"
   ]
  },
  {
   "cell_type": "markdown",
   "id": "a6f86f46",
   "metadata": {},
   "source": [
    "# Data Cleaning"
   ]
  },
  {
   "cell_type": "markdown",
   "id": "7db79ab0",
   "metadata": {},
   "source": [
    "## 1. Remove unnecessary data"
   ]
  },
  {
   "cell_type": "code",
   "execution_count": 32,
   "id": "34fb7bce",
   "metadata": {},
   "outputs": [
    {
     "data": {
      "text/html": [
       "<div>\n",
       "<style scoped>\n",
       "    .dataframe tbody tr th:only-of-type {\n",
       "        vertical-align: middle;\n",
       "    }\n",
       "\n",
       "    .dataframe tbody tr th {\n",
       "        vertical-align: top;\n",
       "    }\n",
       "\n",
       "    .dataframe thead th {\n",
       "        text-align: right;\n",
       "    }\n",
       "</style>\n",
       "<table border=\"1\" class=\"dataframe\">\n",
       "  <thead>\n",
       "    <tr style=\"text-align: right;\">\n",
       "      <th></th>\n",
       "      <th>Unnamed: 0</th>\n",
       "      <th>index</th>\n",
       "      <th>x_trk</th>\n",
       "      <th>y_trk</th>\n",
       "    </tr>\n",
       "  </thead>\n",
       "  <tbody>\n",
       "    <tr>\n",
       "      <th>0</th>\n",
       "      <td>0</td>\n",
       "      <td>3180</td>\n",
       "      <td>-36.507133</td>\n",
       "      <td>-40.170982</td>\n",
       "    </tr>\n",
       "    <tr>\n",
       "      <th>1</th>\n",
       "      <td>1</td>\n",
       "      <td>3181</td>\n",
       "      <td>-36.543438</td>\n",
       "      <td>-40.260765</td>\n",
       "    </tr>\n",
       "    <tr>\n",
       "      <th>2</th>\n",
       "      <td>2</td>\n",
       "      <td>3182</td>\n",
       "      <td>-36.645119</td>\n",
       "      <td>-40.364326</td>\n",
       "    </tr>\n",
       "    <tr>\n",
       "      <th>3</th>\n",
       "      <td>3</td>\n",
       "      <td>3183</td>\n",
       "      <td>-36.709301</td>\n",
       "      <td>-40.413754</td>\n",
       "    </tr>\n",
       "    <tr>\n",
       "      <th>4</th>\n",
       "      <td>4</td>\n",
       "      <td>3184</td>\n",
       "      <td>-36.720108</td>\n",
       "      <td>-40.421989</td>\n",
       "    </tr>\n",
       "    <tr>\n",
       "      <th>...</th>\n",
       "      <td>...</td>\n",
       "      <td>...</td>\n",
       "      <td>...</td>\n",
       "      <td>...</td>\n",
       "    </tr>\n",
       "    <tr>\n",
       "      <th>546938</th>\n",
       "      <td>546938</td>\n",
       "      <td>550118</td>\n",
       "      <td>-35.735081</td>\n",
       "      <td>-24.971382</td>\n",
       "    </tr>\n",
       "    <tr>\n",
       "      <th>546939</th>\n",
       "      <td>546939</td>\n",
       "      <td>550119</td>\n",
       "      <td>-35.476555</td>\n",
       "      <td>-23.567873</td>\n",
       "    </tr>\n",
       "    <tr>\n",
       "      <th>546940</th>\n",
       "      <td>546940</td>\n",
       "      <td>550120</td>\n",
       "      <td>-35.200634</td>\n",
       "      <td>-22.105921</td>\n",
       "    </tr>\n",
       "    <tr>\n",
       "      <th>546941</th>\n",
       "      <td>546941</td>\n",
       "      <td>550121</td>\n",
       "      <td>-34.895008</td>\n",
       "      <td>-20.589333</td>\n",
       "    </tr>\n",
       "    <tr>\n",
       "      <th>546942</th>\n",
       "      <td>546942</td>\n",
       "      <td>550122</td>\n",
       "      <td>-34.612679</td>\n",
       "      <td>-19.015917</td>\n",
       "    </tr>\n",
       "  </tbody>\n",
       "</table>\n",
       "<p>546943 rows × 4 columns</p>\n",
       "</div>"
      ],
      "text/plain": [
       "        Unnamed: 0   index      x_trk      y_trk\n",
       "0                0    3180 -36.507133 -40.170982\n",
       "1                1    3181 -36.543438 -40.260765\n",
       "2                2    3182 -36.645119 -40.364326\n",
       "3                3    3183 -36.709301 -40.413754\n",
       "4                4    3184 -36.720108 -40.421989\n",
       "...            ...     ...        ...        ...\n",
       "546938      546938  550118 -35.735081 -24.971382\n",
       "546939      546939  550119 -35.476555 -23.567873\n",
       "546940      546940  550120 -35.200634 -22.105921\n",
       "546941      546941  550121 -34.895008 -20.589333\n",
       "546942      546942  550122 -34.612679 -19.015917\n",
       "\n",
       "[546943 rows x 4 columns]"
      ]
     },
     "execution_count": 32,
     "metadata": {},
     "output_type": "execute_result"
    }
   ],
   "source": [
    "# Remove the \"z\" and \"time\" dimension columns in both DataFrames\n",
    "path_df.drop(columns=['z_pth', 't_pth'])\n",
    "tracker_df.drop(columns=['z_trk', 't_trk'])"
   ]
  },
  {
   "cell_type": "code",
   "execution_count": null,
   "id": "5a5b01a2",
   "metadata": {},
   "outputs": [],
   "source": []
  }
 ],
 "metadata": {
  "kernelspec": {
   "display_name": "Python 3 (ipykernel)",
   "language": "python",
   "name": "python3"
  },
  "language_info": {
   "codemirror_mode": {
    "name": "ipython",
    "version": 3
   },
   "file_extension": ".py",
   "mimetype": "text/x-python",
   "name": "python",
   "nbconvert_exporter": "python",
   "pygments_lexer": "ipython3",
   "version": "3.9.9"
  }
 },
 "nbformat": 4,
 "nbformat_minor": 5
}
